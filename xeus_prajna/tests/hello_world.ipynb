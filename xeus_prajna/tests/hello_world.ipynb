{
 "cells": [
  {
   "cell_type": "code",
   "execution_count": null,
   "metadata": {},
   "outputs": [],
   "source": [
    "\"Hello World!\""
   ]
  }
 ],
 "metadata": {
  "kernelspec": {
   "display_name": "Prajna",
   "language": "prajna",
   "name": "prajna"
  },
  "language_info": {
   "file_extension": ".prajnascripts",
   "mimetype": "text/x-prajna",
   "name": "prajna",
   "version": "0.0.0"
  },
  "vscode": {
   "interpreter": {
    "hash": "5c7b89af1651d0b8571dde13640ecdccf7d5a6204171d6ab33e7c296e100e08a"
   }
  }
 },
 "nbformat": 4,
 "nbformat_minor": 2
}
